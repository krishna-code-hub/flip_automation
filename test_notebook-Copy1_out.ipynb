{
 "cells": [
  {
   "cell_type": "code",
   "execution_count": 1,
   "id": "20a97b7f-fd00-4628-b7b8-c5954f65b57c",
   "metadata": {
    "execution": {
     "iopub.execute_input": "2024-10-20T09:23:21.157803Z",
     "iopub.status.busy": "2024-10-20T09:23:21.157803Z",
     "iopub.status.idle": "2024-10-20T09:23:21.189353Z",
     "shell.execute_reply": "2024-10-20T09:23:21.189353Z"
    },
    "papermill": {
     "duration": 0.03155,
     "end_time": "2024-10-20T09:23:21.189353",
     "exception": false,
     "start_time": "2024-10-20T09:23:21.157803",
     "status": "completed"
    },
    "tags": []
   },
   "outputs": [
    {
     "name": "stdout",
     "output_type": "stream",
     "text": [
      "3.10.15 | packaged by conda-forge | (main, Oct 16 2024, 01:15:49) [MSC v.1941 64 bit (AMD64)]\n"
     ]
    }
   ],
   "source": [
    "import sys\n",
    "print(sys.version)"
   ]
  },
  {
   "cell_type": "code",
   "execution_count": 2,
   "id": "253255e5-a8bb-44b2-abf3-bf622c6dfd84",
   "metadata": {
    "execution": {
     "iopub.execute_input": "2024-10-20T09:23:21.189353Z",
     "iopub.status.busy": "2024-10-20T09:23:21.189353Z",
     "iopub.status.idle": "2024-10-20T09:23:21.236424Z",
     "shell.execute_reply": "2024-10-20T09:23:21.236424Z"
    },
    "papermill": {
     "duration": 0.047071,
     "end_time": "2024-10-20T09:23:21.236424",
     "exception": false,
     "start_time": "2024-10-20T09:23:21.189353",
     "status": "completed"
    },
    "tags": []
   },
   "outputs": [
    {
     "name": "stdout",
     "output_type": "stream",
     "text": [
      " Volume in drive D is technical\n",
      " Volume Serial Number is 6C38-F6D3\n",
      "\n",
      " Directory of D:\\code-repo\\jupyterlab\n",
      "\n",
      "10/20/2024  05:23 PM    <DIR>          .\n",
      "10/19/2024  06:35 AM    <DIR>          ..\n",
      "10/20/2024  05:18 PM    <DIR>          .ipynb_checkpoints\n",
      "10/19/2024  08:22 AM    <DIR>          __pycache__\n",
      "10/19/2024  09:33 PM    <DIR>          config\n",
      "10/20/2024  03:55 PM    <DIR>          FLIP_AUTOMATION\n",
      "10/19/2024  07:54 AM             1,200 pyspark_sql_magic.py\n",
      "10/19/2024  06:51 AM               261 technical_notes.txt\n",
      "10/20/2024  03:56 PM             8,661 test_notebook.ipynb\n",
      "10/20/2024  05:23 PM             2,992 test_notebook-Copy1.ipynb\n",
      "10/20/2024  05:23 PM             3,547 test_notebook-Copy1_out.ipynb\n",
      "               5 File(s)         16,661 bytes\n",
      "               6 Dir(s)  147,925,487,616 bytes free\n"
     ]
    }
   ],
   "source": [
    "%ls"
   ]
  },
  {
   "cell_type": "code",
   "execution_count": 3,
   "id": "813a9d7d-8873-4adb-9edc-f0362a4872cd",
   "metadata": {
    "execution": {
     "iopub.execute_input": "2024-10-20T09:23:21.236424Z",
     "iopub.status.busy": "2024-10-20T09:23:21.236424Z",
     "iopub.status.idle": "2024-10-20T09:23:24.297441Z",
     "shell.execute_reply": "2024-10-20T09:23:24.297441Z"
    },
    "papermill": {
     "duration": 3.061017,
     "end_time": "2024-10-20T09:23:24.297441",
     "exception": false,
     "start_time": "2024-10-20T09:23:21.236424",
     "status": "completed"
    },
    "tags": []
   },
   "outputs": [
    {
     "name": "stdout",
     "output_type": "stream",
     "text": [
      "Initialized Spark session\n"
     ]
    }
   ],
   "source": [
    "from pyspark.sql import SparkSession\n",
    "spark = SparkSession.builder \\\n",
    "            .appName(\"JupyterPySparkSQLMagic\") \\\n",
    "            .config(\"spark.sql.session.timeZone\", \"UTC\") \\\n",
    "            .getOrCreate()\n",
    "print(\"Initialized Spark session\")"
   ]
  },
  {
   "cell_type": "code",
   "execution_count": 4,
   "id": "398bc9ae-8fc0-4395-9a6c-f9710a4833ec",
   "metadata": {
    "execution": {
     "iopub.execute_input": "2024-10-20T09:23:24.297441Z",
     "iopub.status.busy": "2024-10-20T09:23:24.297441Z",
     "iopub.status.idle": "2024-10-20T09:23:27.785724Z",
     "shell.execute_reply": "2024-10-20T09:23:27.785724Z"
    },
    "papermill": {
     "duration": 3.488283,
     "end_time": "2024-10-20T09:23:27.785724",
     "exception": false,
     "start_time": "2024-10-20T09:23:24.297441",
     "status": "completed"
    },
    "tags": []
   },
   "outputs": [
    {
     "name": "stdout",
     "output_type": "stream",
     "text": [
      "+-----------------------+\n",
      "|now                    |\n",
      "+-----------------------+\n",
      "|2024-10-20 09:23:25.712|\n",
      "+-----------------------+\n",
      "\n"
     ]
    }
   ],
   "source": [
    "spark.sql(\"select current_timestamp() as now\").show(100,False)"
   ]
  },
  {
   "cell_type": "code",
   "execution_count": null,
   "id": "e1118544-a892-4d63-8eac-79a93acfaa23",
   "metadata": {
    "papermill": {
     "duration": 0.0,
     "end_time": "2024-10-20T09:23:27.785724",
     "exception": false,
     "start_time": "2024-10-20T09:23:27.785724",
     "status": "completed"
    },
    "tags": []
   },
   "outputs": [],
   "source": []
  }
 ],
 "metadata": {
  "kernelspec": {
   "display_name": "Python 3 (ipykernel)",
   "language": "python",
   "name": "python3"
  },
  "language_info": {
   "codemirror_mode": {
    "name": "ipython",
    "version": 3
   },
   "file_extension": ".py",
   "mimetype": "text/x-python",
   "name": "python",
   "nbconvert_exporter": "python",
   "pygments_lexer": "ipython3",
   "version": "3.10.15"
  },
  "papermill": {
   "default_parameters": {},
   "duration": 7.886082,
   "end_time": "2024-10-20T09:23:28.022281",
   "environment_variables": {},
   "exception": null,
   "input_path": "test_notebook-Copy1.ipynb",
   "output_path": "test_notebook-Copy1_out.ipynb",
   "parameters": {},
   "start_time": "2024-10-20T09:23:20.136199",
   "version": "2.6.0"
  }
 },
 "nbformat": 4,
 "nbformat_minor": 5
}