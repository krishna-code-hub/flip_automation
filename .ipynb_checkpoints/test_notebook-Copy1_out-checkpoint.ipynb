{
 "cells": [
  {
   "cell_type": "code",
   "execution_count": 1,
   "id": "20a97b7f-fd00-4628-b7b8-c5954f65b57c",
   "metadata": {
    "execution": {
     "iopub.execute_input": "2024-10-20T09:18:21.934590Z",
     "iopub.status.busy": "2024-10-20T09:18:21.934590Z",
     "iopub.status.idle": "2024-10-20T09:18:21.950136Z",
     "shell.execute_reply": "2024-10-20T09:18:21.950136Z"
    },
    "papermill": {
     "duration": 0.015546,
     "end_time": "2024-10-20T09:18:21.950136",
     "exception": false,
     "start_time": "2024-10-20T09:18:21.934590",
     "status": "completed"
    },
    "tags": []
   },
   "outputs": [
    {
     "name": "stdout",
     "output_type": "stream",
     "text": [
      "3.10.15 | packaged by conda-forge | (main, Oct 16 2024, 01:15:49) [MSC v.1941 64 bit (AMD64)]\n"
     ]
    }
   ],
   "source": [
    "import sys\n",
    "print(sys.version)"
   ]
  },
  {
   "cell_type": "code",
   "execution_count": 2,
   "id": "253255e5-a8bb-44b2-abf3-bf622c6dfd84",
   "metadata": {
    "execution": {
     "iopub.execute_input": "2024-10-20T09:18:21.954242Z",
     "iopub.status.busy": "2024-10-20T09:18:21.954242Z",
     "iopub.status.idle": "2024-10-20T09:18:21.997612Z",
     "shell.execute_reply": "2024-10-20T09:18:21.997612Z"
    },
    "papermill": {
     "duration": 0.04337,
     "end_time": "2024-10-20T09:18:21.997612",
     "exception": false,
     "start_time": "2024-10-20T09:18:21.954242",
     "status": "completed"
    },
    "tags": []
   },
   "outputs": [
    {
     "name": "stdout",
     "output_type": "stream",
     "text": [
      " Volume in drive D is technical\n",
      " Volume Serial Number is 6C38-F6D3\n",
      "\n",
      " Directory of D:\\code-repo\\jupyterlab\n",
      "\n",
      "10/20/2024  05:18 PM    <DIR>          .\n",
      "10/19/2024  06:35 AM    <DIR>          ..\n",
      "10/20/2024  05:15 PM    <DIR>          .ipynb_checkpoints\n",
      "10/19/2024  08:22 AM    <DIR>          __pycache__\n",
      "10/19/2024  09:33 PM    <DIR>          config\n",
      "10/20/2024  03:55 PM    <DIR>          FLIP_AUTOMATION\n",
      "10/19/2024  07:54 AM             1,200 pyspark_sql_magic.py\n",
      "10/19/2024  06:51 AM               261 technical_notes.txt\n",
      "10/20/2024  03:56 PM             8,661 test_notebook.ipynb\n",
      "10/20/2024  05:15 PM             1,716 test_notebook-Copy1.ipynb\n",
      "10/20/2024  05:18 PM             2,125 test_notebook-Copy1_out.ipynb\n",
      "               5 File(s)         13,963 bytes\n",
      "               6 Dir(s)  147,925,491,712 bytes free\n"
     ]
    }
   ],
   "source": [
    "%ls"
   ]
  }
 ],
 "metadata": {
  "kernelspec": {
   "display_name": "Python 3 (ipykernel)",
   "language": "python",
   "name": "python3"
  },
  "language_info": {
   "codemirror_mode": {
    "name": "ipython",
    "version": 3
   },
   "file_extension": ".py",
   "mimetype": "text/x-python",
   "name": "python",
   "nbconvert_exporter": "python",
   "pygments_lexer": "ipython3",
   "version": "3.10.15"
  },
  "papermill": {
   "default_parameters": {},
   "duration": 1.431461,
   "end_time": "2024-10-20T09:18:22.123198",
   "environment_variables": {},
   "exception": null,
   "input_path": "test_notebook-Copy1.ipynb",
   "output_path": "test_notebook-Copy1_out.ipynb",
   "parameters": {},
   "start_time": "2024-10-20T09:18:20.691737",
   "version": "2.6.0"
  }
 },
 "nbformat": 4,
 "nbformat_minor": 5
}