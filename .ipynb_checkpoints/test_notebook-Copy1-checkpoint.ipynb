{
 "cells": [
  {
   "cell_type": "code",
   "execution_count": 1,
   "id": "20a97b7f-fd00-4628-b7b8-c5954f65b57c",
   "metadata": {},
   "outputs": [
    {
     "name": "stdout",
     "output_type": "stream",
     "text": [
      "3.10.15 | packaged by conda-forge | (main, Oct 16 2024, 01:15:49) [MSC v.1941 64 bit (AMD64)]\n"
     ]
    }
   ],
   "source": [
    "import sys\n",
    "print(sys.version)"
   ]
  },
  {
   "cell_type": "code",
   "execution_count": 4,
   "id": "253255e5-a8bb-44b2-abf3-bf622c6dfd84",
   "metadata": {},
   "outputs": [
    {
     "name": "stdout",
     "output_type": "stream",
     "text": [
      " Volume in drive D is technical\n",
      " Volume Serial Number is 6C38-F6D3\n",
      "\n",
      " Directory of D:\\code-repo\\jupyterlab\n",
      "\n",
      "10/19/2024  07:16 AM    <DIR>          .\n",
      "10/19/2024  06:35 AM    <DIR>          ..\n",
      "10/19/2024  06:52 AM    <DIR>          .ipynb_checkpoints\n",
      "10/19/2024  06:51 AM               261 technical_notes.txt\n",
      "10/19/2024  07:16 AM             6,790 Untitled.ipynb\n",
      "               2 File(s)          7,051 bytes\n",
      "               3 Dir(s)  147,925,573,632 bytes free\n"
     ]
    }
   ],
   "source": [
    "%ls"
   ]
  },
  {
   "cell_type": "code",
   "execution_count": 2,
   "id": "813a9d7d-8873-4adb-9edc-f0362a4872cd",
   "metadata": {},
   "outputs": [
    {
     "name": "stdout",
     "output_type": "stream",
     "text": [
      "Initialized Spark session\n"
     ]
    }
   ],
   "source": [
    "from pyspark.sql import SparkSession\n",
    "spark = SparkSession.builder \\\n",
    "            .appName(\"JupyterPySparkSQLMagic\") \\\n",
    "            .config(\"spark.sql.session.timeZone\", \"UTC\") \\\n",
    "            .getOrCreate()\n",
    "print(\"Initialized Spark session\")"
   ]
  },
  {
   "cell_type": "code",
   "execution_count": 4,
   "id": "398bc9ae-8fc0-4395-9a6c-f9710a4833ec",
   "metadata": {},
   "outputs": [
    {
     "name": "stdout",
     "output_type": "stream",
     "text": [
      "+-----------------------+\n",
      "|now                    |\n",
      "+-----------------------+\n",
      "|2024-10-20 09:21:44.609|\n",
      "+-----------------------+\n",
      "\n"
     ]
    }
   ],
   "source": [
    "spark.sql(\"select current_timestamp() as now\").show(100,False)"
   ]
  },
  {
   "cell_type": "code",
   "execution_count": null,
   "id": "e1118544-a892-4d63-8eac-79a93acfaa23",
   "metadata": {},
   "outputs": [],
   "source": []
  }
 ],
 "metadata": {
  "kernelspec": {
   "display_name": "Python 3 (ipykernel)",
   "language": "python",
   "name": "python3"
  },
  "language_info": {
   "codemirror_mode": {
    "name": "ipython",
    "version": 3
   },
   "file_extension": ".py",
   "mimetype": "text/x-python",
   "name": "python",
   "nbconvert_exporter": "python",
   "pygments_lexer": "ipython3",
   "version": "3.10.15"
  }
 },
 "nbformat": 4,
 "nbformat_minor": 5
}
